{
 "cells": [
  {
   "cell_type": "code",
   "execution_count": 4,
   "metadata": {},
   "outputs": [],
   "source": [
    "import pandas as pd\n",
    "import numpy\n",
    "import matplotlib\n",
    "\n",
    "import seaborn\n",
    "import  plotly\n",
    "import  scipy\n",
    "import  statsmodels\n",
    "\n",
    "#returns all the rows and columns for the dataframe\n",
    "\n",
    "pd.set_option('display.max_rows', None)\n",
    "pd.set_option('display.max_columns', None)\n",
    "\n",
    "# Force pandas to display full numbers instead of scientific notation\n",
    "# pd.options.display.float_format = '{:.0f}'.format\n",
    "\n",
    "# Library to suppress warnings\n",
    "import warnings\n",
    "warnings.filterwarnings('ignore')"
   ]
  },
  {
   "cell_type": "markdown",
   "metadata": {},
   "source": [
    "# Dataset Description:\n",
    "The Public School Characteristics 2022-23 dataset is provided by the National Center for Education Statistics. This dataset provides information on schools across the U.S and icnludes data on school identifiers, location details, enrollment information, grade leves, Title 1 funding status, and school types such as charter or magnent schools. This dataset also includes information surrounding student demopgraphics, and classifes schools based on their geographic location such as urban, suburban, town, or rual. \n"
   ]
  },
  {
   "cell_type": "markdown",
   "metadata": {},
   "source": [
    "# Research Topic:\n",
    "\n",
    "\n",
    "Education funding and resource allocation may contribute to disparities in student experiences across different school enviorments. This research explores how factors such as school funding, poverty levels, and racial demographics influence student-to-teacher ratios and access to educational resources in urban, suburban, and rural schools."
   ]
  },
  {
   "cell_type": "markdown",
   "metadata": {},
   "source": [
    "# Research Problem\n",
    "\n",
    "Despite federal efforts to support high-poverty schools through Title I funding, disparities in teacher allocation and resource distribution remain, particularly in schools serving predominantly Black students.Schools with higher poverty levels, which will be measured by free and reduced-price lunch eligibility, may still experience larger class sizes and fewer resources despite receiving additional funding.Additionally, geographic location, such as whether a school is in an urban, suburban, or rural area, may further contribute to these disparities.This study hypothesizes that schools with higher Black and Hispanic enrollment and greater poverty rates will have higher student-to-teacher ratios than predominantly White schools, even when receiving Title I funding, with disparities being most pronounced in urban areas."
   ]
  },
  {
   "cell_type": "markdown",
   "metadata": {},
   "source": [
    "# Reading My Data:"
   ]
  },
  {
   "cell_type": "code",
   "execution_count": null,
   "metadata": {},
   "outputs": [
    {
     "name": "stdout",
     "output_type": "stream",
     "text": [
      "['Public_School_Characteristics_2022-23.csv', 'Public_School_Characteristics_2020-21.csv', 'Public School charchtertics KEY.pdf', 'Public_School_Characteristics_2017-18.csv']\n"
     ]
    }
   ],
   "source": [
    "# Checking to make sure my file is in the right place\n",
    "import os\n",
    "\n",
    "folder_path = \"/Users/remi/Documents/Masters Fall 2024/Public School Charachtertics\"\n",
    "\n",
    "# List all files in the folder\n",
    "print(os.listdir(folder_path))\n"
   ]
  },
  {
   "cell_type": "code",
   "execution_count": null,
   "metadata": {},
   "outputs": [
    {
     "name": "stdout",
     "output_type": "stream",
     "text": [
      "           X        Y  OBJECTID      NCESSCH   SURVYEAR STABR   LEAID  \\\n",
      "0 -86.206200  34.2602         1  10000500870  2022-2023    AL  100005   \n",
      "1 -86.204900  34.2622         2  10000500871  2022-2023    AL  100005   \n",
      "2 -86.220100  34.2733         3  10000500879  2022-2023    AL  100005   \n",
      "3 -86.221806  34.2527         4  10000500889  2022-2023    AL  100005   \n",
      "4 -86.193300  34.2898         5  10000501616  2022-2023    AL  100005   \n",
      "\n",
      "  ST_LEAID          LEA_NAME                           SCH_NAME  \\\n",
      "0   AL-101  Albertville City          Albertville Middle School   \n",
      "1   AL-101  Albertville City            Albertville High School   \n",
      "2   AL-101  Albertville City    Albertville Intermediate School   \n",
      "3   AL-101  Albertville City      Albertville Elementary School   \n",
      "4   AL-101  Albertville City  Albertville Kindergarten and PreK   \n",
      "\n",
      "              LSTREET1 LSTREET2        LCITY LSTATE   LZIP LZIP4  \\\n",
      "0    600 E Alabama Ave      NaN  Albertville     AL  35950         \n",
      "1     402 E McCord Ave      NaN  Albertville     AL  35950  2322   \n",
      "2   901 W McKinney Ave      NaN  Albertville     AL  35950  1300   \n",
      "3   145 West End Drive      NaN  Albertville     AL  35950         \n",
      "4  257 Country Club Rd      NaN  Albertville     AL  35951  3927   \n",
      "\n",
      "           PHONE CHARTER_TEXT      VIRTUAL GSLO GSHI SCHOOL_LEVEL  STATUS  \\\n",
      "0  (256)878-2341           No  Not Virtual   07   08       Middle       1   \n",
      "1  (256)894-5000           No  Not Virtual   09   12         High       1   \n",
      "2  (256)878-7698           No  Not Virtual   05   06       Middle       1   \n",
      "3  (256)894-4822           No  Not Virtual   03   04   Elementary       1   \n",
      "4  (256)878-7922           No  Not Virtual   PK   KG   Elementary       1   \n",
      "\n",
      "  SCHOOL_TYPE_TEXT          SY_STATUS_TEXT           ULOCALE           NMCNTY  \\\n",
      "0   Regular School  Currently operational   32-Town: Distant  Marshall County   \n",
      "1   Regular School  Currently operational   32-Town: Distant  Marshall County   \n",
      "2   Regular School  Currently operational   32-Town: Distant  Marshall County   \n",
      "3   Regular School  Currently operational   32-Town: Distant  Marshall County   \n",
      "4   Regular School  Currently operational   32-Town: Distant  Marshall County   \n",
      "\n",
      "   TOTFRL  FRELCH  REDLCH  DIRECTCERT     PK     KG  G01  G02    G03    G04  \\\n",
      "0     697     654      43         587    NaN    NaN  NaN  NaN    NaN    NaN   \n",
      "1    1254    1178      76        1059    NaN    NaN  NaN  NaN    NaN    NaN   \n",
      "2     718     665      53         570    NaN    NaN  NaN  NaN    NaN    NaN   \n",
      "3     723     680      43         583    NaN    NaN  NaN  NaN  430.0  444.0   \n",
      "4     392     367      25         240  133.0  473.0  NaN  NaN    NaN    NaN   \n",
      "\n",
      "     G05    G06    G07    G08    G09    G10    G11    G12  G13  UG  AE  \\\n",
      "0    NaN    NaN  440.0  450.0    NaN    NaN    NaN    NaN  NaN NaN NaN   \n",
      "1    NaN    NaN    NaN    NaN  493.0  442.0  390.0  387.0  NaN NaN NaN   \n",
      "2  412.0  462.0    NaN    NaN    NaN    NaN    NaN    NaN  NaN NaN NaN   \n",
      "3    NaN    NaN    NaN    NaN    NaN    NaN    NaN    NaN  NaN NaN NaN   \n",
      "4    NaN    NaN    NaN    NaN    NaN    NaN    NaN    NaN  NaN NaN NaN   \n",
      "\n",
      "   TOTMENROL  TOTFENROL   TOTAL  MEMBER        FTE  STUTERATIO  AMALM  AMALF  \\\n",
      "0      459.0      431.0   890.0   890.0  45.000000       19.78    4.0    1.0   \n",
      "1      868.0      844.0  1712.0  1712.0  85.199997       20.09    0.0    2.0   \n",
      "2      451.0      423.0   874.0   874.0  43.000000       20.33    1.0    4.0   \n",
      "3      463.0      411.0   874.0   874.0  43.000000       20.33    0.0    4.0   \n",
      "4      304.0      302.0   606.0   606.0  26.000000       23.31    1.0    3.0   \n",
      "\n",
      "    AM  ASALM  ASALF   AS  BLALM  BLALF    BL  HPALM  HPALF   HP  HIALM  \\\n",
      "0  5.0    4.0    2.0  6.0   15.0   14.0  29.0    0.0    1.0  1.0  251.0   \n",
      "1  2.0    4.0    5.0  9.0   23.0   34.0  57.0    0.0    0.0  0.0  490.0   \n",
      "2  5.0    4.0    0.0  4.0   22.0   28.0  50.0    0.0    0.0  0.0  263.0   \n",
      "3  4.0    1.0    3.0  4.0   22.0   16.0  38.0    0.0    0.0  0.0  261.0   \n",
      "4  4.0    2.0    0.0  2.0   26.0   23.0  49.0    0.0    0.0  0.0  167.0   \n",
      "\n",
      "   HIALF     HI  TRALM  TRALF    TR  WHALM  WHALF     WH   LATCOD     LONCOD  \n",
      "0  251.0  502.0   17.0   15.0  32.0  168.0  147.0  315.0  34.2602 -86.206200  \n",
      "1  468.0  958.0   26.0   19.0  45.0  325.0  316.0  641.0  34.2622 -86.204900  \n",
      "2  241.0  504.0    7.0    6.0  13.0  154.0  144.0  298.0  34.2733 -86.220100  \n",
      "3  236.0  497.0   11.0   16.0  27.0  168.0  136.0  304.0  34.2527 -86.221806  \n",
      "4  152.0  319.0    4.0    4.0   8.0  104.0  120.0  224.0  34.2898 -86.193300  \n"
     ]
    }
   ],
   "source": [
    "file_path = \"/Users/remi/Documents/Masters Fall 2024/Public School Charachtertics/Public_School_Characteristics_2022-23.csv\"\n",
    "\n",
    "df = pd.read_csv(file_path)  # Load CSV\n",
    "print(df.head())"
   ]
  },
  {
   "cell_type": "code",
   "execution_count": 21,
   "metadata": {},
   "outputs": [
    {
     "name": "stdout",
     "output_type": "stream",
     "text": [
      "        NCESSCH   LEAID ST_LEAID          LEA_NAME  \\\n",
      "0   10000500870  100005   AL-101  Albertville City   \n",
      "1   10000500871  100005   AL-101  Albertville City   \n",
      "2   10000500879  100005   AL-101  Albertville City   \n",
      "3   10000500889  100005   AL-101  Albertville City   \n",
      "4   10000501616  100005   AL-101  Albertville City   \n",
      "5   10000502150  100005   AL-101  Albertville City   \n",
      "6   10000600193  100006   AL-048   Marshall County   \n",
      "7   10000600872  100006   AL-048   Marshall County   \n",
      "8   10000600876  100006   AL-048   Marshall County   \n",
      "9   10000600877  100006   AL-048   Marshall County   \n",
      "10  10000600878  100006   AL-048   Marshall County   \n",
      "11  10000600880  100006   AL-048   Marshall County   \n",
      "12  10000600883  100006   AL-048   Marshall County   \n",
      "13  10000600887  100006   AL-048   Marshall County   \n",
      "14  10000600986  100006   AL-048   Marshall County   \n",
      "\n",
      "                               SCH_NAME STABR     LATCOD     LONCOD  \\\n",
      "0             Albertville Middle School    AL  34.260200 -86.206200   \n",
      "1               Albertville High School    AL  34.262200 -86.204900   \n",
      "2       Albertville Intermediate School    AL  34.273300 -86.220100   \n",
      "3         Albertville Elementary School    AL  34.252700 -86.221806   \n",
      "4     Albertville Kindergarten and PreK    AL  34.289800 -86.193300   \n",
      "5            Albertville Primary School    AL  34.253300 -86.221800   \n",
      "6          Kate Duncan Smith DAR Middle    AL  34.533750 -86.254153   \n",
      "7                    Asbury High School    AL  34.362500 -86.142000   \n",
      "8                     Claysville School    AL  34.406900 -86.270400   \n",
      "9             Douglas Elementary School    AL  34.176234 -86.321259   \n",
      "10                  Douglas High School    AL  34.178658 -86.319462   \n",
      "11  Brindlee Mountain Elementary School    AL  34.344500 -86.442100   \n",
      "12         Kate D Smith DAR High School    AL  34.533750 -86.254153   \n",
      "13     Brindlee Mountain Primary School    AL  34.377151 -86.422446   \n",
      "14          Marshall Alternative School    AL  34.406900 -86.270400   \n",
      "\n",
      "              ULOCALE  STATUS  TOTFRL   TOTAL  STUTERATIO  \\\n",
      "0    32-Town: Distant       1     697   890.0       19.78   \n",
      "1    32-Town: Distant       1    1254  1712.0       20.09   \n",
      "2    32-Town: Distant       1     718   874.0       20.33   \n",
      "3    32-Town: Distant       1     723   874.0       20.33   \n",
      "4    32-Town: Distant       1     392   606.0       23.31   \n",
      "5    32-Town: Distant       1     779   944.0       15.48   \n",
      "6   42-Rural: Distant       1     151   364.0       16.52   \n",
      "7   42-Rural: Distant       1     555   664.0       19.38   \n",
      "8    41-Rural: Fringe       1      -1     0.0       -1.00   \n",
      "9   42-Rural: Distant       1     245   461.0       18.44   \n",
      "10  42-Rural: Distant       1     334   674.0       19.67   \n",
      "11   41-Rural: Fringe       1     109   236.0       21.45   \n",
      "12  42-Rural: Distant       1     132   394.0       16.79   \n",
      "13   41-Rural: Fringe       1     134   227.0       16.63   \n",
      "14   41-Rural: Fringe       1      -1     0.0       -1.00   \n",
      "\n",
      "                SCHOOL_TYPE_TEXT     SCHOOL_LEVEL           NMCNTY  \\\n",
      "0                 Regular School           Middle  Marshall County   \n",
      "1                 Regular School             High  Marshall County   \n",
      "2                 Regular School           Middle  Marshall County   \n",
      "3                 Regular School       Elementary  Marshall County   \n",
      "4                 Regular School       Elementary  Marshall County   \n",
      "5                 Regular School       Elementary  Marshall County   \n",
      "6                 Regular School           Middle  Marshall County   \n",
      "7                 Regular School             High  Marshall County   \n",
      "8                 Regular School  Prekindergarten  Marshall County   \n",
      "9                 Regular School       Elementary  Marshall County   \n",
      "10                Regular School             High  Marshall County   \n",
      "11                Regular School       Elementary  Marshall County   \n",
      "12                Regular School             High  Marshall County   \n",
      "13                Regular School       Elementary  Marshall County   \n",
      "14  Alternative Education School            Other  Marshall County   \n",
      "\n",
      "           LCITY LSTATE   LZIP    AM   AS    BL     HI     WH   HP    TR  \n",
      "0    Albertville     AL  35950   5.0  6.0  29.0  502.0  315.0  1.0  32.0  \n",
      "1    Albertville     AL  35950   2.0  9.0  57.0  958.0  641.0  0.0  45.0  \n",
      "2    Albertville     AL  35950   5.0  4.0  50.0  504.0  298.0  0.0  13.0  \n",
      "3    Albertville     AL  35950   4.0  4.0  38.0  497.0  304.0  0.0  27.0  \n",
      "4    Albertville     AL  35951   4.0  2.0  49.0  319.0  224.0  0.0   8.0  \n",
      "5    Albertville     AL  35950  10.0  3.0  45.0  546.0  320.0  1.0  19.0  \n",
      "6          Grant     AL  35747   4.0  0.0   2.0   14.0  330.0  0.0  14.0  \n",
      "7    Albertville     AL  35951   2.0  2.0  11.0  318.0  324.0  2.0   5.0  \n",
      "8   Guntersville     AL  35976   0.0  0.0   0.0    0.0    0.0  0.0   0.0  \n",
      "9        Douglas     AL  35964   6.0  0.0   9.0  194.0  246.0  1.0   5.0  \n",
      "10       Douglas     AL  35964   4.0  0.0  10.0  293.0  362.0  2.0   3.0  \n",
      "11          Arab     AL  35016   0.0  4.0   3.0    7.0  219.0  0.0   3.0  \n",
      "12         Grant     AL  35747   2.0  5.0   5.0   15.0  359.0  0.0   8.0  \n",
      "13  Guntersville     AL  35976   0.0  0.0   0.0   13.0  207.0  0.0   7.0  \n",
      "14  Guntersville     AL  35976   0.0  0.0   0.0    0.0    0.0  0.0   0.0  \n"
     ]
    }
   ],
   "source": [
    "# Getting the columns I need/ need to clean\n",
    "columns_needed = [\n",
    "    \"NCESSCH\", \"LEAID\", \"ST_LEAID\", \"LEA_NAME\", \"SCH_NAME\", \"STABR\", \"LATCOD\", \"LONCOD\",  # ID & Location\n",
    "    \"ULOCALE\", \"STATUS\", \"TITLEI\", \"TITLEI_STATUS\", \"TOTFRL\", \"TOTAL\", \"STUTERATIO\",  # School characteristics\n",
    "    \"SCHOOL_TYPE_TEXT\", \"SCHOOL_LEVEL\", \"NMCNTY\", \"LCITY\", \"LSTATE\", \"LZIP\",  # School type and location\n",
    "    \"AM\", \"AS\", \"BL\", \"HI\", \"WH\", \"HP\", \"TR\"  # Racial categories\n",
    "]\n",
    "\n",
    "available_columns = [col for col in columns_needed if col in df.columns]\n",
    "df_cleaned = df[available_columns].copy()\n",
    "\n",
    "# Display the first few rows\n",
    "print(df_cleaned.head(15))\n"
   ]
  }
 ],
 "metadata": {
  "kernelspec": {
   "display_name": "Python 3",
   "language": "python",
   "name": "python3"
  },
  "language_info": {
   "codemirror_mode": {
    "name": "ipython",
    "version": 3
   },
   "file_extension": ".py",
   "mimetype": "text/x-python",
   "name": "python",
   "nbconvert_exporter": "python",
   "pygments_lexer": "ipython3",
   "version": "3.12.0"
  }
 },
 "nbformat": 4,
 "nbformat_minor": 2
}
