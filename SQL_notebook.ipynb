{
 "cells": [
  {
   "cell_type": "code",
   "execution_count": 1,
   "metadata": {},
   "outputs": [],
   "source": [
    "# Import the libraries\n",
    "import sqlite3\n",
    "import csv\n",
    "import numpy as np\n",
    "import pandas as pd"
   ]
  },
  {
   "cell_type": "markdown",
   "metadata": {},
   "source": [
    "### a cursor allows you to go through each row of data one by one.\n",
    "### it comes in handy when you have to  go through each record in a set like updating and deleting data."
   ]
  },
  {
   "cell_type": "code",
   "execution_count": null,
   "metadata": {},
   "outputs": [],
   "source": [
    "# Create a connection\n",
    "conn = sqlite3.connect('energyindicators.sqlite')\n",
    "\n",
    "# Create a cursor object to navigate\n",
    "cur = conn.cursor()"
   ]
  },
  {
   "cell_type": "markdown",
   "metadata": {},
   "source": [
    "SQL Basics"
   ]
  },
  {
   "cell_type": "markdown",
   "metadata": {},
   "source": [
    "Creating Tables"
   ]
  },
  {
   "cell_type": "code",
   "execution_count": 3,
   "metadata": {},
   "outputs": [
    {
     "data": {
      "text/plain": [
       "<sqlite3.Cursor at 0x7fdc3ac35d50>"
      ]
     },
     "execution_count": 3,
     "metadata": {},
     "output_type": "execute_result"
    }
   ],
   "source": [
    "cur.execute('''DROP TABLE graduates''')"
   ]
  },
  {
   "cell_type": "code",
   "execution_count": 4,
   "metadata": {},
   "outputs": [
    {
     "data": {
      "text/plain": [
       "<sqlite3.Cursor at 0x7fdc3ac35d50>"
      ]
     },
     "execution_count": 4,
     "metadata": {},
     "output_type": "execute_result"
    }
   ],
   "source": [
    "# Creating a new table called students\n",
    "# The fields will be name, graduation year, and school\n",
    "\n",
    "cur.execute(''' \n",
    "CREATE TABLE graduates(\n",
    "    id INTEGER PRIMARY KEY AUTOINCREMENT,\n",
    "    name TEXT,\n",
    "    graduated INTEGER,\n",
    "    school TEXT\n",
    "    )\n",
    "''')"
   ]
  },
  {
   "cell_type": "code",
   "execution_count": 5,
   "metadata": {},
   "outputs": [],
   "source": [
    "# inserting a record into the table\n",
    "\n",
    "cur.execute('''\n",
    "INSERT INTO graduates (name, graduated, school) VALUES ('Shirley Chisholm', 1951, 'Columbia University')''')\n",
    "\n",
    "conn.commit()"
   ]
  },
  {
   "cell_type": "code",
   "execution_count": null,
   "metadata": {},
   "outputs": [],
   "source": [
    "# Importing mulitple records into the table\n",
    "# first creating a list of the records I want to add\n",
    "data = [('Kimberle Crenshaw', 1989, 'Columbia University'),\n",
    "        ('Barack Obama', 1983, 'Columbia University'),\n",
    "        ('Mae Jemison', 1981, 'Cornell University School of Medicine'),\n",
    "        ('Bessie Coleman','NULL' ,'Langston Industrial College'),\n",
    "        ('Langston Hughes', 1929, 'Lincoln University'),\n",
    "        ('Maya Angelou', 1944, 'Mission High School'),\n",
    "        ('Zora Neale Hurston', 1928, 'Columbia University'),\n",
    "        ('Claudette Colvin','NULL' , 'Booker T Washington High School'),\n",
    "        ('Martin Luther King Jr', 1948, 'Morehouse College'),\n",
    "        ('Audre Lorde', 1961, 'Columbia University'),\n",
    "        ('Ruby Bridges','NULL' , 'Kansas City Business School'),\n",
    "       ('LaKeta L Kemp', 2024, 'Howard University'),\n",
    "       ('Remi Des-Ogugua', 2023, 'Agnes Scott College')]\n",
    "\n",
    "# Adding the the data as new records.\n",
    "cur.executemany('''\n",
    "INSERT INTO graduates (name, graduated, school) VALUES (?, ?, ?)''',data)\n",
    "conn.commit()"
   ]
  },
  {
   "cell_type": "code",
   "execution_count": null,
   "metadata": {},
   "outputs": [
    {
     "data": {
      "text/plain": [
       "[(1, 'Shirley Chisholm', 1951, 'Columbia University'),\n",
       " (2, 'Kimberle Crenshaw', 1989, 'Columbia University'),\n",
       " (3, 'Barack Obama', 1983, 'Columbia University'),\n",
       " (4, 'Mae Jemison', 1981, 'Cornell University School of Medicine'),\n",
       " (5, 'Bessie Coleman', 'NULL', 'Langston Industrial College'),\n",
       " (6, 'Langston Hughes', 1929, 'Lincoln University'),\n",
       " (7, 'Maya Angelou', 1944, 'Mission High School'),\n",
       " (8, 'Zora Neale Hurston', 1928, 'Columbia University'),\n",
       " (9, 'Claudette Colvin', 'NULL', 'Booker T Washington High School'),\n",
       " (10, 'Martin Luther King Jr', 1948, 'Morehouse College'),\n",
       " (11, 'Audre Lorde', 1961, 'Columbia University'),\n",
       " (12, 'Ruby Bridges', 'NULL', 'Kansas City Business School'),\n",
       " (13, 'LaKeta L Kemp', 2024, 'Howard University')]"
      ]
     },
     "execution_count": 20,
     "metadata": {},
     "output_type": "execute_result"
    }
   ],
   "source": [
    "cur.execute('''\n",
    "SELECT *\n",
    "FROM graduates''')\n",
    "\n",
    "cur.fetchall()"
   ]
  },
  {
   "cell_type": "code",
   "execution_count": 9,
   "metadata": {},
   "outputs": [
    {
     "data": {
      "text/plain": [
       "[(6, 'Langston Hughes', 1929, 'Lincoln University'),\n",
       " (7, 'Maya Angelou', 1944, 'Mission High School'),\n",
       " (8, 'Zora Neale Hurston', 1928, 'Columbia University'),\n",
       " (10, 'Martin Luther King Jr', 1948, 'Morehouse College'),\n",
       " (17, 'Langston Hughes', 1929, 'Lincoln University'),\n",
       " (18, 'Maya Angelou', 1944, 'Mission High School'),\n",
       " (19, 'Zora Neale Hurston', 1928, 'Columbia University'),\n",
       " (21, 'Martin Luther King Jr', 1948, 'Morehouse College'),\n",
       " (29, 'Langston Hughes', 1929, 'Lincoln University'),\n",
       " (30, 'Maya Angelou', 1944, 'Mission High School'),\n",
       " (31, 'Zora Neale Hurston', 1928, 'Columbia University'),\n",
       " (33, 'Martin Luther King Jr', 1948, 'Morehouse College')]"
      ]
     },
     "execution_count": 9,
     "metadata": {},
     "output_type": "execute_result"
    }
   ],
   "source": [
    "cur.execute('''\n",
    "SELECT *\n",
    "FROM graduates\n",
    "WHERE graduated < 1950 \n",
    "AND graduated != \"NULL\"\n",
    "             ''')\n",
    "\n",
    "cur.fetchall()"
   ]
  },
  {
   "cell_type": "code",
   "execution_count": null,
   "metadata": {},
   "outputs": [],
   "source": []
  }
 ],
 "metadata": {
  "kernelspec": {
   "display_name": "Python 3",
   "language": "python",
   "name": "python3"
  },
  "language_info": {
   "codemirror_mode": {
    "name": "ipython",
    "version": 3
   },
   "file_extension": ".py",
   "mimetype": "text/x-python",
   "name": "python",
   "nbconvert_exporter": "python",
   "pygments_lexer": "ipython3",
   "version": "3.9.6"
  }
 },
 "nbformat": 4,
 "nbformat_minor": 2
}
