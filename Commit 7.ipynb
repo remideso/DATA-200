{
 "cells": [
  {
   "cell_type": "code",
   "execution_count": 3,
   "metadata": {},
   "outputs": [],
   "source": [
    "# Import the libraries\n",
    "import sqlite3\n",
    "import csv\n",
    "import numpy as np\n",
    "import pandas as pd"
   ]
  },
  {
   "cell_type": "markdown",
   "metadata": {},
   "source": [
    "### a cursor allows you to go through each row of data one by one.\n",
    "### it comes in handy when you have to  go through each record in a set like updating and deleting data."
   ]
  },
  {
   "cell_type": "code",
   "execution_count": 4,
   "metadata": {},
   "outputs": [],
   "source": [
    "# Create a connection\n",
    "conn = sqlite3.connect('unemployment.sqlite')\n",
    "\n",
    "# Create a cursor object to navigate\n",
    "cur = conn.cursor()"
   ]
  },
  {
   "cell_type": "markdown",
   "metadata": {},
   "source": [
    "# SQL Basics"
   ]
  },
  {
   "cell_type": "markdown",
   "metadata": {},
   "source": [
    "## Creating Tables"
   ]
  },
  {
   "cell_type": "code",
   "execution_count": 5,
   "metadata": {},
   "outputs": [
    {
     "ename": "OperationalError",
     "evalue": "table black_feminist already exists",
     "output_type": "error",
     "traceback": [
      "\u001b[0;31m---------------------------------------------------------------------------\u001b[0m",
      "\u001b[0;31mOperationalError\u001b[0m                          Traceback (most recent call last)",
      "Cell \u001b[0;32mIn[5], line 4\u001b[0m\n\u001b[1;32m      1\u001b[0m \u001b[38;5;66;03m# Creating a new table called students\u001b[39;00m\n\u001b[1;32m      2\u001b[0m \u001b[38;5;66;03m# The fields will be name, graduation year, and school\u001b[39;00m\n\u001b[0;32m----> 4\u001b[0m \u001b[43mcur\u001b[49m\u001b[38;5;241;43m.\u001b[39;49m\u001b[43mexecute\u001b[49m\u001b[43m(\u001b[49m\u001b[38;5;124;43m'''\u001b[39;49m\u001b[38;5;124;43m \u001b[39;49m\n\u001b[1;32m      5\u001b[0m \u001b[38;5;124;43mCREATE TABLE black_feminist(\u001b[39;49m\n\u001b[1;32m      6\u001b[0m \u001b[38;5;124;43m    id INTEGER PRIMARY KEY AUTOINCREMENT,\u001b[39;49m\n\u001b[1;32m      7\u001b[0m \u001b[38;5;124;43m    name TEXT,\u001b[39;49m\n\u001b[1;32m      8\u001b[0m \u001b[38;5;124;43m    birth_year INTEGER,\u001b[39;49m\n\u001b[1;32m      9\u001b[0m \u001b[38;5;124;43m    birth_place TEXT,\u001b[39;49m\n\u001b[1;32m     10\u001b[0m \u001b[38;5;124;43m    activism_area TEXT\u001b[39;49m\n\u001b[1;32m     11\u001b[0m \u001b[38;5;124;43m    )\u001b[39;49m\n\u001b[1;32m     12\u001b[0m \u001b[38;5;124;43m'''\u001b[39;49m\u001b[43m)\u001b[49m\n",
      "\u001b[0;31mOperationalError\u001b[0m: table black_feminist already exists"
     ]
    }
   ],
   "source": [
    "# Creating a new table called students\n",
    "# The fields will be name, graduation year, and school\n",
    "\n",
    "cur.execute(''' \n",
    "CREATE TABLE black_feminist(\n",
    "    id INTEGER PRIMARY KEY AUTOINCREMENT,\n",
    "    name TEXT,\n",
    "    birth_year INTEGER,\n",
    "    birth_place TEXT,\n",
    "    activism_area TEXT\n",
    "    )\n",
    "''')"
   ]
  },
  {
   "cell_type": "code",
   "execution_count": 6,
   "metadata": {},
   "outputs": [],
   "source": [
    "# inserting a record into the table\n",
    "\n",
    "cur.execute('''\n",
    "INSERT INTO black_feminist (name, birth_year, birth_place, activism_area) VALUES ('Ida B. Wells-Barnett', '1862', 'Holly Springs, Mississippi, USA', 'Anti-lynching')''')\n",
    "\n",
    "conn.commit()"
   ]
  },
  {
   "cell_type": "code",
   "execution_count": 7,
   "metadata": {},
   "outputs": [],
   "source": [
    "# Importing mulitple records into the table\n",
    "# first creating a list of the records I want to add\n",
    "\n",
    "data = [\n",
    "    ('Bell Hooks', 1952, 'Hopkinsville, Kentucky, USA', 'Intersectionality'),\n",
    "    ('Frances Beal', 1940, 'United States', 'Black feminism'),\n",
    "    ('Alicia Garza', 1981, 'Oakland, California, USA', 'Racial justice'),\n",
    "    ('Djamila Ribeiro', 1980, 'Santos, São Paulo, Brazil', 'Black feminism'),\n",
    "    ('Sueli Carneiro', 1950, 'São Paulo, Brazil', 'Anti-racism'),\n",
    "    ('Amata Giramata', 1996, 'Kigali, Rwanda', 'Feminist activism'),\n",
    "    ('Amina Mama', 1958, 'United Kingdom', 'Gender studies'),\n",
    "    ('Altheia Jones-Lecointe', 1945, 'Trinidad', 'Black power'),\n",
    "    ('Kath Locke', 1928, 'Blackpool, England', 'Education reform')\n",
    "]\n",
    "\n",
    "# Adding the data as new records.\n",
    "cur.executemany('''\n",
    "INSERT INTO black_feminist (name, birth_year, birth_place, activism_area) \n",
    "VALUES (?, ?, ?, ?)''', data)\n",
    "\n",
    "# Committing the changes to the database\n",
    "conn.commit()"
   ]
  },
  {
   "cell_type": "code",
   "execution_count": 8,
   "metadata": {},
   "outputs": [
    {
     "data": {
      "text/plain": [
       "[(1,\n",
       "  'Ida B. Wells-Barnett',\n",
       "  1862,\n",
       "  'Holly Springs, Mississippi, USA',\n",
       "  'Anti-lynching'),\n",
       " (2, 'Bell Hooks', 1952, 'Hopkinsville, Kentucky, USA', 'Intersectionality'),\n",
       " (3, 'Frances Beal', 1940, 'United States', 'Black feminism'),\n",
       " (4, 'Alicia Garza', 1981, 'Oakland, California, USA', 'Racial justice'),\n",
       " (5, 'Djamila Ribeiro', 1980, 'Santos, São Paulo, Brazil', 'Black feminism'),\n",
       " (6, 'Sueli Carneiro', 1950, 'São Paulo, Brazil', 'Anti-racism'),\n",
       " (7, 'Amata Giramata', 1996, 'Kigali, Rwanda', 'Feminist activism'),\n",
       " (8, 'Amina Mama', 1958, 'United Kingdom', 'Gender studies'),\n",
       " (9, 'Altheia Jones-Lecointe', 1945, 'Trinidad', 'Black power'),\n",
       " (10, 'Kath Locke', 1928, 'Blackpool, England', 'Education reform'),\n",
       " (11,\n",
       "  'Ida B. Wells-Barnett',\n",
       "  1862,\n",
       "  'Holly Springs, Mississippi, USA',\n",
       "  'Anti-lynching'),\n",
       " (12, 'Bell Hooks', 1952, 'Hopkinsville, Kentucky, USA', 'Intersectionality'),\n",
       " (13, 'Frances Beal', 1940, 'United States', 'Black feminism'),\n",
       " (14, 'Alicia Garza', 1981, 'Oakland, California, USA', 'Racial justice'),\n",
       " (15, 'Djamila Ribeiro', 1980, 'Santos, São Paulo, Brazil', 'Black feminism'),\n",
       " (16, 'Sueli Carneiro', 1950, 'São Paulo, Brazil', 'Anti-racism'),\n",
       " (17, 'Amata Giramata', 1996, 'Kigali, Rwanda', 'Feminist activism'),\n",
       " (18, 'Amina Mama', 1958, 'United Kingdom', 'Gender studies'),\n",
       " (19, 'Altheia Jones-Lecointe', 1945, 'Trinidad', 'Black power'),\n",
       " (20, 'Kath Locke', 1928, 'Blackpool, England', 'Education reform'),\n",
       " (21,\n",
       "  'Ida B. Wells-Barnett',\n",
       "  1862,\n",
       "  'Holly Springs, Mississippi, USA',\n",
       "  'Anti-lynching'),\n",
       " (22, 'Bell Hooks', 1952, 'Hopkinsville, Kentucky, USA', 'Intersectionality'),\n",
       " (23, 'Frances Beal', 1940, 'United States', 'Black feminism'),\n",
       " (24, 'Alicia Garza', 1981, 'Oakland, California, USA', 'Racial justice'),\n",
       " (25, 'Djamila Ribeiro', 1980, 'Santos, São Paulo, Brazil', 'Black feminism'),\n",
       " (26, 'Sueli Carneiro', 1950, 'São Paulo, Brazil', 'Anti-racism'),\n",
       " (27, 'Amata Giramata', 1996, 'Kigali, Rwanda', 'Feminist activism'),\n",
       " (28, 'Amina Mama', 1958, 'United Kingdom', 'Gender studies'),\n",
       " (29, 'Altheia Jones-Lecointe', 1945, 'Trinidad', 'Black power'),\n",
       " (30, 'Kath Locke', 1928, 'Blackpool, England', 'Education reform')]"
      ]
     },
     "execution_count": 8,
     "metadata": {},
     "output_type": "execute_result"
    }
   ],
   "source": [
    "cur.execute('''\n",
    "SELECT *\n",
    "FROM black_feminist''')\n",
    "\n",
    "cur.fetchall()"
   ]
  },
  {
   "cell_type": "code",
   "execution_count": 10,
   "metadata": {},
   "outputs": [
    {
     "data": {
      "text/plain": [
       "[(1,\n",
       "  'Ida B. Wells-Barnett',\n",
       "  1862,\n",
       "  'Holly Springs, Mississippi, USA',\n",
       "  'Anti-lynching'),\n",
       " (3, 'Frances Beal', 1940, 'United States', 'Black feminism'),\n",
       " (9, 'Altheia Jones-Lecointe', 1945, 'Trinidad', 'Black power'),\n",
       " (10, 'Kath Locke', 1928, 'Blackpool, England', 'Education reform'),\n",
       " (11,\n",
       "  'Ida B. Wells-Barnett',\n",
       "  1862,\n",
       "  'Holly Springs, Mississippi, USA',\n",
       "  'Anti-lynching'),\n",
       " (13, 'Frances Beal', 1940, 'United States', 'Black feminism'),\n",
       " (19, 'Altheia Jones-Lecointe', 1945, 'Trinidad', 'Black power'),\n",
       " (20, 'Kath Locke', 1928, 'Blackpool, England', 'Education reform')]"
      ]
     },
     "execution_count": 10,
     "metadata": {},
     "output_type": "execute_result"
    }
   ],
   "source": [
    "cur.execute('''\n",
    "SELECT *\n",
    "FROM black_feminist\n",
    "WHERE birth_year < 1950 \n",
    "             ''')\n",
    "\n",
    "cur.fetchall()"
   ]
  },
  {
   "cell_type": "code",
   "execution_count": 9,
   "metadata": {},
   "outputs": [
    {
     "data": {
      "text/plain": [
       "[(2, 'Bell Hooks', 1952, 'Hopkinsville, Kentucky, USA', 'Intersectionality'),\n",
       " (3, 'Frances Beal', 1940, 'United States', 'Black feminism'),\n",
       " (6, 'Sueli Carneiro', 1950, 'São Paulo, Brazil', 'Anti-racism'),\n",
       " (8, 'Amina Mama', 1958, 'United Kingdom', 'Gender studies'),\n",
       " (9, 'Altheia Jones-Lecointe', 1945, 'Trinidad', 'Black power'),\n",
       " (10, 'Kath Locke', 1928, 'Blackpool, England', 'Education reform'),\n",
       " (12, 'Bell Hooks', 1952, 'Hopkinsville, Kentucky, USA', 'Intersectionality'),\n",
       " (13, 'Frances Beal', 1940, 'United States', 'Black feminism'),\n",
       " (16, 'Sueli Carneiro', 1950, 'São Paulo, Brazil', 'Anti-racism'),\n",
       " (18, 'Amina Mama', 1958, 'United Kingdom', 'Gender studies'),\n",
       " (19, 'Altheia Jones-Lecointe', 1945, 'Trinidad', 'Black power'),\n",
       " (20, 'Kath Locke', 1928, 'Blackpool, England', 'Education reform'),\n",
       " (22, 'Bell Hooks', 1952, 'Hopkinsville, Kentucky, USA', 'Intersectionality'),\n",
       " (23, 'Frances Beal', 1940, 'United States', 'Black feminism'),\n",
       " (26, 'Sueli Carneiro', 1950, 'São Paulo, Brazil', 'Anti-racism'),\n",
       " (28, 'Amina Mama', 1958, 'United Kingdom', 'Gender studies'),\n",
       " (29, 'Altheia Jones-Lecointe', 1945, 'Trinidad', 'Black power'),\n",
       " (30, 'Kath Locke', 1928, 'Blackpool, England', 'Education reform')]"
      ]
     },
     "execution_count": 9,
     "metadata": {},
     "output_type": "execute_result"
    }
   ],
   "source": [
    "cur.execute('''\n",
    "SELECT *\n",
    "FROM black_feminist\n",
    "WHERE birth_year BETWEEN 1890 AND 1960\n",
    "             ''')\n",
    "\n",
    "cur.fetchall()"
   ]
  },
  {
   "cell_type": "code",
   "execution_count": 11,
   "metadata": {},
   "outputs": [
    {
     "data": {
      "text/html": [
       "<div>\n",
       "<style scoped>\n",
       "    .dataframe tbody tr th:only-of-type {\n",
       "        vertical-align: middle;\n",
       "    }\n",
       "\n",
       "    .dataframe tbody tr th {\n",
       "        vertical-align: top;\n",
       "    }\n",
       "\n",
       "    .dataframe thead th {\n",
       "        text-align: right;\n",
       "    }\n",
       "</style>\n",
       "<table border=\"1\" class=\"dataframe\">\n",
       "  <thead>\n",
       "    <tr style=\"text-align: right;\">\n",
       "      <th></th>\n",
       "      <th>0</th>\n",
       "      <th>1</th>\n",
       "      <th>2</th>\n",
       "      <th>3</th>\n",
       "      <th>4</th>\n",
       "    </tr>\n",
       "  </thead>\n",
       "  <tbody>\n",
       "    <tr>\n",
       "      <th>0</th>\n",
       "      <td>2</td>\n",
       "      <td>Bell Hooks</td>\n",
       "      <td>1952</td>\n",
       "      <td>Hopkinsville, Kentucky, USA</td>\n",
       "      <td>Intersectionality</td>\n",
       "    </tr>\n",
       "    <tr>\n",
       "      <th>1</th>\n",
       "      <td>3</td>\n",
       "      <td>Frances Beal</td>\n",
       "      <td>1940</td>\n",
       "      <td>United States</td>\n",
       "      <td>Black feminism</td>\n",
       "    </tr>\n",
       "    <tr>\n",
       "      <th>2</th>\n",
       "      <td>4</td>\n",
       "      <td>Alicia Garza</td>\n",
       "      <td>1981</td>\n",
       "      <td>Oakland, California, USA</td>\n",
       "      <td>Racial justice</td>\n",
       "    </tr>\n",
       "    <tr>\n",
       "      <th>3</th>\n",
       "      <td>5</td>\n",
       "      <td>Djamila Ribeiro</td>\n",
       "      <td>1980</td>\n",
       "      <td>Santos, São Paulo, Brazil</td>\n",
       "      <td>Black feminism</td>\n",
       "    </tr>\n",
       "    <tr>\n",
       "      <th>4</th>\n",
       "      <td>6</td>\n",
       "      <td>Sueli Carneiro</td>\n",
       "      <td>1950</td>\n",
       "      <td>São Paulo, Brazil</td>\n",
       "      <td>Anti-racism</td>\n",
       "    </tr>\n",
       "  </tbody>\n",
       "</table>\n",
       "</div>"
      ],
      "text/plain": [
       "   0                1     2                            3                  4\n",
       "0  2       Bell Hooks  1952  Hopkinsville, Kentucky, USA  Intersectionality\n",
       "1  3     Frances Beal  1940                United States     Black feminism\n",
       "2  4     Alicia Garza  1981     Oakland, California, USA     Racial justice\n",
       "3  5  Djamila Ribeiro  1980    Santos, São Paulo, Brazil     Black feminism\n",
       "4  6   Sueli Carneiro  1950            São Paulo, Brazil        Anti-racism"
      ]
     },
     "execution_count": 11,
     "metadata": {},
     "output_type": "execute_result"
    }
   ],
   "source": [
    "# Deleting the actual values from the ID Number\n",
    "cur.execute('''\n",
    "DELETE \n",
    "FROM black_feminist WHERE birth_year< 1929;\n",
    "''')\n",
    "\n",
    "cur.execute('''\n",
    "SELECT *\n",
    "FROM black_feminist;\n",
    "''')\n",
    "# Let's pass the result to a Pandas DataFrame\n",
    "blackfeminist = pd.DataFrame(cur.fetchall())\n",
    "blackfeminist.head()"
   ]
  }
 ],
 "metadata": {
  "kernelspec": {
   "display_name": "Python 3",
   "language": "python",
   "name": "python3"
  },
  "language_info": {
   "codemirror_mode": {
    "name": "ipython",
    "version": 3
   },
   "file_extension": ".py",
   "mimetype": "text/x-python",
   "name": "python",
   "nbconvert_exporter": "python",
   "pygments_lexer": "ipython3",
   "version": "3.9.6"
  }
 },
 "nbformat": 4,
 "nbformat_minor": 2
}
